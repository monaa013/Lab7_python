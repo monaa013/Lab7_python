{
 "cells": [
  {
   "cell_type": "code",
   "execution_count": 13,
   "metadata": {},
   "outputs": [
    {
     "name": "stdout",
     "output_type": "stream",
     "text": [
      "Array1 : \n",
      " [[4 3 3]\n",
      " [1 2 1]\n",
      " [4 1 1]]\n",
      "Array2 : \n",
      " [[5 2 1]\n",
      " [1 3 1]\n",
      " [2 4 3]]\n",
      "Multiply : \n",
      " [[20  6  3]\n",
      " [ 1  6  1]\n",
      " [ 8  4  3]]\n",
      "Product : \n",
      " 207360\n",
      "Dot : \n",
      " [[29 29 16]\n",
      " [ 9 12  6]\n",
      " [23 15  8]]\n"
     ]
    }
   ],
   "source": [
    "\n",
    "import numpy as np\n",
    "arr1=np.random.randint(1,5,(3,3))\n",
    "arr2=np.random.randint(1,6,(3,3))\n",
    "print(\"Array1 : \\n\",arr1)\n",
    "print(\"Array2 : \\n\",arr2)\n",
    "print(\"Multiply : \\n\",np.multiply(arr1,arr2))\n",
    "print(\"Product : \\n\",np.prod([arr1,arr2]))\n",
    "print(\"Dot : \\n\",np.dot(arr1,arr2))"
   ]
  },
  {
   "cell_type": "code",
   "execution_count": 17,
   "metadata": {},
   "outputs": [
    {
     "name": "stdout",
     "output_type": "stream",
     "text": [
      "Union :  [1 2 3 4 5 6]\n",
      "Intersection :  [3 4]\n",
      "Set Difference :  [1 2]\n",
      "XOR :  [1 2 5 6]\n"
     ]
    }
   ],
   "source": [
    "import numpy as np\n",
    "arr1=np.array([1,2,3,4])\n",
    "arr2=np.array([3,4,5,6])\n",
    "print(\"Union : \",np.union1d(arr1,arr2))\n",
    "\n",
    "print(\"Intersection : \",np.intersect1d(arr1,arr2))\n",
    "\n",
    "print(\"Set Difference : \",np.setdiff1d(arr1,arr2))\n",
    "\n",
    "print(\"XOR : \",np.setxor1d(arr1,arr2))"
   ]
  },
  {
   "cell_type": "code",
   "execution_count": 29,
   "metadata": {},
   "outputs": [
    {
     "name": "stdout",
     "output_type": "stream",
     "text": [
      "[0 0 4 1 6 1 1 0 1 3]\n",
      "Cumulative sum :  [ 0  0  4  5 11 12 13 13 14 17]\n",
      "Cumulative Product :  [0 0 0 0 0 0 0 0 0 0]\n",
      "Discrete difference (with n=3) :  [-11  15 -18  15  -6   3  -1]\n",
      "The unique elements from the array :  [0 1 3 4 6]\n"
     ]
    }
   ],
   "source": [
    "import numpy as np\n",
    "arr1=np.random.randint(10 ,size=10)\n",
    "print(arr1)\n",
    "print(\"Cumulative sum : \",np.cumsum(arr1))\n",
    "print(\"Cumulative Product : \",np.cumprod(arr1))\n",
    "print(\"Discrete difference (with n=3) : \",np.diff(arr1, n=3))\n",
    "print(\"The unique elements from the array : \",np.unique(arr1))"
   ]
  },
  {
   "cell_type": "code",
   "execution_count": 39,
   "metadata": {},
   "outputs": [
    {
     "name": "stdout",
     "output_type": "stream",
     "text": [
      "[4, 6, 8, 10]\n",
      "[ 4  6  8 10]\n",
      "[4 6 8 10]\n"
     ]
    }
   ],
   "source": [
    "import numpy as np\n",
    "arr1=np.array([1,2,3,4])\n",
    "arr2=np.array([3,4,5,6])\n",
    "z=[]\n",
    "for i,j in zip(arr1,arr2):\n",
    "    z.append(i+j)\n",
    "print(z)\n",
    "\n",
    "print(np.add(arr1,arr2))\n",
    "\n",
    "def adds(x,y):\n",
    "    return x+y\n",
    "result=np.frompyfunc(adds,2,1)\n",
    "print(result(arr1,arr2))"
   ]
  },
  {
   "cell_type": "code",
   "execution_count": 49,
   "metadata": {},
   "outputs": [
    {
     "name": "stdout",
     "output_type": "stream",
     "text": [
      "LCM :  [[1 2 3 4]]\n",
      "GCD :  5\n"
     ]
    }
   ],
   "source": [
    "import numpy as np\n",
    "arr1=np.array([[[1,2,3,4]]])\n",
    "arr2=np.array([5,25,15,10])\n",
    "print(\"LCM : \",np.lcm.reduce(arr1))\n",
    "print(\"GCD : \",np.gcd.reduce(arr2))\n"
   ]
  }
 ],
 "metadata": {
  "kernelspec": {
   "display_name": "Python 3",
   "language": "python",
   "name": "python3"
  },
  "language_info": {
   "codemirror_mode": {
    "name": "ipython",
    "version": 3
   },
   "file_extension": ".py",
   "mimetype": "text/x-python",
   "name": "python",
   "nbconvert_exporter": "python",
   "pygments_lexer": "ipython3",
   "version": "3.10.11"
  },
  "orig_nbformat": 4
 },
 "nbformat": 4,
 "nbformat_minor": 2
}
